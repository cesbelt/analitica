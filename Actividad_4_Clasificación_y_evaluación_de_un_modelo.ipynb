{
  "cells": [
    {
      "cell_type": "code",
      "execution_count": null,
      "metadata": {
        "id": "eFJoeSMXPszU"
      },
      "outputs": [],
      "source": [
        "import pandas as pd\n",
        "import numpy as np\n",
        "from sklearn.cluster import KMeans\n",
        "from sklearn.decomposition import PCA\n",
        "import seaborn as sns\n",
        "import matplotlib.pyplot as plt\n",
        "from sklearn import preprocessing\n",
        "from sklearn.preprocessing import MinMaxScaler\n",
        "from sklearn.tree import DecisionTreeClassifier\n",
        "from sklearn.model_selection import train_test_split\n",
        "from sklearn import metrics\n",
        "from sklearn.metrics import confusion_matrix\n",
        "from sklearn.metrics import roc_curve\n",
        "from sklearn.model_selection import KFold\n",
        "from sklearn.svm import SVR\n",
        "from sklearn.tree import export_graphviz\n",
        "from six import StringIO\n",
        "from IPython.display import Image\n",
        "import pydotplus"
      ]
    },
    {
      "cell_type": "code",
      "execution_count": null,
      "metadata": {
        "id": "8PM2KkW1PszX"
      },
      "outputs": [],
      "source": [
        "df = pd.read_csv(r'C:\\Users\\cesar\\Downloads\\water_potability.csv')"
      ]
    },
    {
      "cell_type": "code",
      "execution_count": null,
      "metadata": {
        "id": "E1vNlmFtPszY",
        "outputId": "410aba2c-b351-4a47-e7ea-12674f9ee058"
      },
      "outputs": [
        {
          "data": {
            "text/html": [
              "<div>\n",
              "<style scoped>\n",
              "    .dataframe tbody tr th:only-of-type {\n",
              "        vertical-align: middle;\n",
              "    }\n",
              "\n",
              "    .dataframe tbody tr th {\n",
              "        vertical-align: top;\n",
              "    }\n",
              "\n",
              "    .dataframe thead th {\n",
              "        text-align: right;\n",
              "    }\n",
              "</style>\n",
              "<table border=\"1\" class=\"dataframe\">\n",
              "  <thead>\n",
              "    <tr style=\"text-align: right;\">\n",
              "      <th></th>\n",
              "      <th>ph</th>\n",
              "      <th>Hardness</th>\n",
              "      <th>Solids</th>\n",
              "      <th>Chloramines</th>\n",
              "      <th>Sulfate</th>\n",
              "      <th>Conductivity</th>\n",
              "      <th>Organic_carbon</th>\n",
              "      <th>Trihalomethanes</th>\n",
              "      <th>Turbidity</th>\n",
              "      <th>Potability</th>\n",
              "    </tr>\n",
              "  </thead>\n",
              "  <tbody>\n",
              "    <tr>\n",
              "      <th>0</th>\n",
              "      <td>NaN</td>\n",
              "      <td>204.890455</td>\n",
              "      <td>20791.318981</td>\n",
              "      <td>7.300212</td>\n",
              "      <td>368.516441</td>\n",
              "      <td>564.308654</td>\n",
              "      <td>10.379783</td>\n",
              "      <td>86.990970</td>\n",
              "      <td>2.963135</td>\n",
              "      <td>0</td>\n",
              "    </tr>\n",
              "    <tr>\n",
              "      <th>1</th>\n",
              "      <td>3.716080</td>\n",
              "      <td>129.422921</td>\n",
              "      <td>18630.057858</td>\n",
              "      <td>6.635246</td>\n",
              "      <td>NaN</td>\n",
              "      <td>592.885359</td>\n",
              "      <td>15.180013</td>\n",
              "      <td>56.329076</td>\n",
              "      <td>4.500656</td>\n",
              "      <td>0</td>\n",
              "    </tr>\n",
              "    <tr>\n",
              "      <th>2</th>\n",
              "      <td>8.099124</td>\n",
              "      <td>224.236259</td>\n",
              "      <td>19909.541732</td>\n",
              "      <td>9.275884</td>\n",
              "      <td>NaN</td>\n",
              "      <td>418.606213</td>\n",
              "      <td>16.868637</td>\n",
              "      <td>66.420093</td>\n",
              "      <td>3.055934</td>\n",
              "      <td>0</td>\n",
              "    </tr>\n",
              "    <tr>\n",
              "      <th>3</th>\n",
              "      <td>8.316766</td>\n",
              "      <td>214.373394</td>\n",
              "      <td>22018.417441</td>\n",
              "      <td>8.059332</td>\n",
              "      <td>356.886136</td>\n",
              "      <td>363.266516</td>\n",
              "      <td>18.436524</td>\n",
              "      <td>100.341674</td>\n",
              "      <td>4.628771</td>\n",
              "      <td>0</td>\n",
              "    </tr>\n",
              "    <tr>\n",
              "      <th>4</th>\n",
              "      <td>9.092223</td>\n",
              "      <td>181.101509</td>\n",
              "      <td>17978.986339</td>\n",
              "      <td>6.546600</td>\n",
              "      <td>310.135738</td>\n",
              "      <td>398.410813</td>\n",
              "      <td>11.558279</td>\n",
              "      <td>31.997993</td>\n",
              "      <td>4.075075</td>\n",
              "      <td>0</td>\n",
              "    </tr>\n",
              "  </tbody>\n",
              "</table>\n",
              "</div>"
            ],
            "text/plain": [
              "         ph    Hardness        Solids  Chloramines     Sulfate  Conductivity  \\\n",
              "0       NaN  204.890455  20791.318981     7.300212  368.516441    564.308654   \n",
              "1  3.716080  129.422921  18630.057858     6.635246         NaN    592.885359   \n",
              "2  8.099124  224.236259  19909.541732     9.275884         NaN    418.606213   \n",
              "3  8.316766  214.373394  22018.417441     8.059332  356.886136    363.266516   \n",
              "4  9.092223  181.101509  17978.986339     6.546600  310.135738    398.410813   \n",
              "\n",
              "   Organic_carbon  Trihalomethanes  Turbidity  Potability  \n",
              "0       10.379783        86.990970   2.963135           0  \n",
              "1       15.180013        56.329076   4.500656           0  \n",
              "2       16.868637        66.420093   3.055934           0  \n",
              "3       18.436524       100.341674   4.628771           0  \n",
              "4       11.558279        31.997993   4.075075           0  "
            ]
          },
          "execution_count": 3,
          "metadata": {},
          "output_type": "execute_result"
        }
      ],
      "source": [
        "df.head()"
      ]
    },
    {
      "cell_type": "markdown",
      "metadata": {
        "id": "PgLS00erPszZ"
      },
      "source": [
        "## Limpieza"
      ]
    },
    {
      "cell_type": "code",
      "execution_count": null,
      "metadata": {
        "id": "wej_jWBqPszb",
        "outputId": "08c32401-fd58-4536-96cf-af39dbcbb8a8"
      },
      "outputs": [
        {
          "data": {
            "text/plain": [
              "ph                 491\n",
              "Hardness             0\n",
              "Solids               0\n",
              "Chloramines          0\n",
              "Sulfate            781\n",
              "Conductivity         0\n",
              "Organic_carbon       0\n",
              "Trihalomethanes    162\n",
              "Turbidity            0\n",
              "Potability           0\n",
              "dtype: int64"
            ]
          },
          "execution_count": 4,
          "metadata": {},
          "output_type": "execute_result"
        }
      ],
      "source": [
        "df.isnull().sum()"
      ]
    },
    {
      "cell_type": "code",
      "execution_count": null,
      "metadata": {
        "id": "6rSo2Mh_Pszd",
        "outputId": "b26e0b44-b129-4a2e-b947-a366daa4c5b8"
      },
      "outputs": [
        {
          "name": "stdout",
          "output_type": "stream",
          "text": [
            "<class 'pandas.core.frame.DataFrame'>\n",
            "RangeIndex: 3276 entries, 0 to 3275\n",
            "Data columns (total 10 columns):\n",
            " #   Column           Non-Null Count  Dtype  \n",
            "---  ------           --------------  -----  \n",
            " 0   ph               2785 non-null   float64\n",
            " 1   Hardness         3276 non-null   float64\n",
            " 2   Solids           3276 non-null   float64\n",
            " 3   Chloramines      3276 non-null   float64\n",
            " 4   Sulfate          2495 non-null   float64\n",
            " 5   Conductivity     3276 non-null   float64\n",
            " 6   Organic_carbon   3276 non-null   float64\n",
            " 7   Trihalomethanes  3114 non-null   float64\n",
            " 8   Turbidity        3276 non-null   float64\n",
            " 9   Potability       3276 non-null   int64  \n",
            "dtypes: float64(9), int64(1)\n",
            "memory usage: 256.1 KB\n"
          ]
        }
      ],
      "source": [
        "df.info()"
      ]
    },
    {
      "cell_type": "code",
      "execution_count": null,
      "metadata": {
        "id": "m2zeTCMDPszh",
        "outputId": "f1e74ee3-fd6b-4e1c-f6b4-5fbe7dcd6879"
      },
      "outputs": [
        {
          "data": {
            "text/html": [
              "<div>\n",
              "<style scoped>\n",
              "    .dataframe tbody tr th:only-of-type {\n",
              "        vertical-align: middle;\n",
              "    }\n",
              "\n",
              "    .dataframe tbody tr th {\n",
              "        vertical-align: top;\n",
              "    }\n",
              "\n",
              "    .dataframe thead th {\n",
              "        text-align: right;\n",
              "    }\n",
              "</style>\n",
              "<table border=\"1\" class=\"dataframe\">\n",
              "  <thead>\n",
              "    <tr style=\"text-align: right;\">\n",
              "      <th></th>\n",
              "      <th>ph</th>\n",
              "      <th>Hardness</th>\n",
              "      <th>Solids</th>\n",
              "      <th>Chloramines</th>\n",
              "      <th>Sulfate</th>\n",
              "      <th>Conductivity</th>\n",
              "      <th>Organic_carbon</th>\n",
              "      <th>Trihalomethanes</th>\n",
              "      <th>Turbidity</th>\n",
              "      <th>Potability</th>\n",
              "    </tr>\n",
              "  </thead>\n",
              "  <tbody>\n",
              "    <tr>\n",
              "      <th>count</th>\n",
              "      <td>2785.000000</td>\n",
              "      <td>3276.000000</td>\n",
              "      <td>3276.000000</td>\n",
              "      <td>3276.000000</td>\n",
              "      <td>2495.000000</td>\n",
              "      <td>3276.000000</td>\n",
              "      <td>3276.000000</td>\n",
              "      <td>3114.000000</td>\n",
              "      <td>3276.000000</td>\n",
              "      <td>3276.000000</td>\n",
              "    </tr>\n",
              "    <tr>\n",
              "      <th>mean</th>\n",
              "      <td>7.080795</td>\n",
              "      <td>196.369496</td>\n",
              "      <td>22014.092526</td>\n",
              "      <td>7.122277</td>\n",
              "      <td>333.775777</td>\n",
              "      <td>426.205111</td>\n",
              "      <td>14.284970</td>\n",
              "      <td>66.396293</td>\n",
              "      <td>3.966786</td>\n",
              "      <td>0.390110</td>\n",
              "    </tr>\n",
              "    <tr>\n",
              "      <th>std</th>\n",
              "      <td>1.594320</td>\n",
              "      <td>32.879761</td>\n",
              "      <td>8768.570828</td>\n",
              "      <td>1.583085</td>\n",
              "      <td>41.416840</td>\n",
              "      <td>80.824064</td>\n",
              "      <td>3.308162</td>\n",
              "      <td>16.175008</td>\n",
              "      <td>0.780382</td>\n",
              "      <td>0.487849</td>\n",
              "    </tr>\n",
              "    <tr>\n",
              "      <th>min</th>\n",
              "      <td>0.000000</td>\n",
              "      <td>47.432000</td>\n",
              "      <td>320.942611</td>\n",
              "      <td>0.352000</td>\n",
              "      <td>129.000000</td>\n",
              "      <td>181.483754</td>\n",
              "      <td>2.200000</td>\n",
              "      <td>0.738000</td>\n",
              "      <td>1.450000</td>\n",
              "      <td>0.000000</td>\n",
              "    </tr>\n",
              "    <tr>\n",
              "      <th>25%</th>\n",
              "      <td>6.093092</td>\n",
              "      <td>176.850538</td>\n",
              "      <td>15666.690297</td>\n",
              "      <td>6.127421</td>\n",
              "      <td>307.699498</td>\n",
              "      <td>365.734414</td>\n",
              "      <td>12.065801</td>\n",
              "      <td>55.844536</td>\n",
              "      <td>3.439711</td>\n",
              "      <td>0.000000</td>\n",
              "    </tr>\n",
              "    <tr>\n",
              "      <th>50%</th>\n",
              "      <td>7.036752</td>\n",
              "      <td>196.967627</td>\n",
              "      <td>20927.833607</td>\n",
              "      <td>7.130299</td>\n",
              "      <td>333.073546</td>\n",
              "      <td>421.884968</td>\n",
              "      <td>14.218338</td>\n",
              "      <td>66.622485</td>\n",
              "      <td>3.955028</td>\n",
              "      <td>0.000000</td>\n",
              "    </tr>\n",
              "    <tr>\n",
              "      <th>75%</th>\n",
              "      <td>8.062066</td>\n",
              "      <td>216.667456</td>\n",
              "      <td>27332.762127</td>\n",
              "      <td>8.114887</td>\n",
              "      <td>359.950170</td>\n",
              "      <td>481.792304</td>\n",
              "      <td>16.557652</td>\n",
              "      <td>77.337473</td>\n",
              "      <td>4.500320</td>\n",
              "      <td>1.000000</td>\n",
              "    </tr>\n",
              "    <tr>\n",
              "      <th>max</th>\n",
              "      <td>14.000000</td>\n",
              "      <td>323.124000</td>\n",
              "      <td>61227.196008</td>\n",
              "      <td>13.127000</td>\n",
              "      <td>481.030642</td>\n",
              "      <td>753.342620</td>\n",
              "      <td>28.300000</td>\n",
              "      <td>124.000000</td>\n",
              "      <td>6.739000</td>\n",
              "      <td>1.000000</td>\n",
              "    </tr>\n",
              "  </tbody>\n",
              "</table>\n",
              "</div>"
            ],
            "text/plain": [
              "                ph     Hardness        Solids  Chloramines      Sulfate  \\\n",
              "count  2785.000000  3276.000000   3276.000000  3276.000000  2495.000000   \n",
              "mean      7.080795   196.369496  22014.092526     7.122277   333.775777   \n",
              "std       1.594320    32.879761   8768.570828     1.583085    41.416840   \n",
              "min       0.000000    47.432000    320.942611     0.352000   129.000000   \n",
              "25%       6.093092   176.850538  15666.690297     6.127421   307.699498   \n",
              "50%       7.036752   196.967627  20927.833607     7.130299   333.073546   \n",
              "75%       8.062066   216.667456  27332.762127     8.114887   359.950170   \n",
              "max      14.000000   323.124000  61227.196008    13.127000   481.030642   \n",
              "\n",
              "       Conductivity  Organic_carbon  Trihalomethanes    Turbidity   Potability  \n",
              "count   3276.000000     3276.000000      3114.000000  3276.000000  3276.000000  \n",
              "mean     426.205111       14.284970        66.396293     3.966786     0.390110  \n",
              "std       80.824064        3.308162        16.175008     0.780382     0.487849  \n",
              "min      181.483754        2.200000         0.738000     1.450000     0.000000  \n",
              "25%      365.734414       12.065801        55.844536     3.439711     0.000000  \n",
              "50%      421.884968       14.218338        66.622485     3.955028     0.000000  \n",
              "75%      481.792304       16.557652        77.337473     4.500320     1.000000  \n",
              "max      753.342620       28.300000       124.000000     6.739000     1.000000  "
            ]
          },
          "execution_count": 6,
          "metadata": {},
          "output_type": "execute_result"
        }
      ],
      "source": [
        "df.describe()\n"
      ]
    },
    {
      "cell_type": "code",
      "execution_count": null,
      "metadata": {
        "id": "p1oa3jklPszh"
      },
      "outputs": [],
      "source": [
        "df['ph'].fillna(value=df['ph'].mean(), inplace=True)\n",
        "df['Sulfate'].fillna(value=df['Sulfate'].mean(), inplace=True)\n",
        "df['Trihalomethanes'].fillna(value=df['Trihalomethanes'].mean(), inplace=True)"
      ]
    },
    {
      "cell_type": "code",
      "execution_count": null,
      "metadata": {
        "id": "yr_nF4MPPszi",
        "outputId": "996623c5-8b92-4af7-9cf1-f3f1d607f216"
      },
      "outputs": [
        {
          "data": {
            "text/html": [
              "<div>\n",
              "<style scoped>\n",
              "    .dataframe tbody tr th:only-of-type {\n",
              "        vertical-align: middle;\n",
              "    }\n",
              "\n",
              "    .dataframe tbody tr th {\n",
              "        vertical-align: top;\n",
              "    }\n",
              "\n",
              "    .dataframe thead th {\n",
              "        text-align: right;\n",
              "    }\n",
              "</style>\n",
              "<table border=\"1\" class=\"dataframe\">\n",
              "  <thead>\n",
              "    <tr style=\"text-align: right;\">\n",
              "      <th></th>\n",
              "      <th>ph</th>\n",
              "      <th>Hardness</th>\n",
              "      <th>Solids</th>\n",
              "      <th>Chloramines</th>\n",
              "      <th>Sulfate</th>\n",
              "      <th>Conductivity</th>\n",
              "      <th>Organic_carbon</th>\n",
              "      <th>Trihalomethanes</th>\n",
              "      <th>Turbidity</th>\n",
              "      <th>Potability</th>\n",
              "    </tr>\n",
              "  </thead>\n",
              "  <tbody>\n",
              "    <tr>\n",
              "      <th>0</th>\n",
              "      <td>7.080795</td>\n",
              "      <td>204.890455</td>\n",
              "      <td>20791.318981</td>\n",
              "      <td>7.300212</td>\n",
              "      <td>368.516441</td>\n",
              "      <td>564.308654</td>\n",
              "      <td>10.379783</td>\n",
              "      <td>86.990970</td>\n",
              "      <td>2.963135</td>\n",
              "      <td>0</td>\n",
              "    </tr>\n",
              "    <tr>\n",
              "      <th>1</th>\n",
              "      <td>3.716080</td>\n",
              "      <td>129.422921</td>\n",
              "      <td>18630.057858</td>\n",
              "      <td>6.635246</td>\n",
              "      <td>333.775777</td>\n",
              "      <td>592.885359</td>\n",
              "      <td>15.180013</td>\n",
              "      <td>56.329076</td>\n",
              "      <td>4.500656</td>\n",
              "      <td>0</td>\n",
              "    </tr>\n",
              "    <tr>\n",
              "      <th>2</th>\n",
              "      <td>8.099124</td>\n",
              "      <td>224.236259</td>\n",
              "      <td>19909.541732</td>\n",
              "      <td>9.275884</td>\n",
              "      <td>333.775777</td>\n",
              "      <td>418.606213</td>\n",
              "      <td>16.868637</td>\n",
              "      <td>66.420093</td>\n",
              "      <td>3.055934</td>\n",
              "      <td>0</td>\n",
              "    </tr>\n",
              "    <tr>\n",
              "      <th>3</th>\n",
              "      <td>8.316766</td>\n",
              "      <td>214.373394</td>\n",
              "      <td>22018.417441</td>\n",
              "      <td>8.059332</td>\n",
              "      <td>356.886136</td>\n",
              "      <td>363.266516</td>\n",
              "      <td>18.436524</td>\n",
              "      <td>100.341674</td>\n",
              "      <td>4.628771</td>\n",
              "      <td>0</td>\n",
              "    </tr>\n",
              "    <tr>\n",
              "      <th>4</th>\n",
              "      <td>9.092223</td>\n",
              "      <td>181.101509</td>\n",
              "      <td>17978.986339</td>\n",
              "      <td>6.546600</td>\n",
              "      <td>310.135738</td>\n",
              "      <td>398.410813</td>\n",
              "      <td>11.558279</td>\n",
              "      <td>31.997993</td>\n",
              "      <td>4.075075</td>\n",
              "      <td>0</td>\n",
              "    </tr>\n",
              "  </tbody>\n",
              "</table>\n",
              "</div>"
            ],
            "text/plain": [
              "         ph    Hardness        Solids  Chloramines     Sulfate  Conductivity  \\\n",
              "0  7.080795  204.890455  20791.318981     7.300212  368.516441    564.308654   \n",
              "1  3.716080  129.422921  18630.057858     6.635246  333.775777    592.885359   \n",
              "2  8.099124  224.236259  19909.541732     9.275884  333.775777    418.606213   \n",
              "3  8.316766  214.373394  22018.417441     8.059332  356.886136    363.266516   \n",
              "4  9.092223  181.101509  17978.986339     6.546600  310.135738    398.410813   \n",
              "\n",
              "   Organic_carbon  Trihalomethanes  Turbidity  Potability  \n",
              "0       10.379783        86.990970   2.963135           0  \n",
              "1       15.180013        56.329076   4.500656           0  \n",
              "2       16.868637        66.420093   3.055934           0  \n",
              "3       18.436524       100.341674   4.628771           0  \n",
              "4       11.558279        31.997993   4.075075           0  "
            ]
          },
          "execution_count": 8,
          "metadata": {},
          "output_type": "execute_result"
        }
      ],
      "source": [
        "df.head()"
      ]
    },
    {
      "cell_type": "code",
      "execution_count": null,
      "metadata": {
        "id": "tREgOIvxPszj",
        "outputId": "aed625ae-4e8f-499b-95f3-439e0f2a20a1"
      },
      "outputs": [
        {
          "data": {
            "text/plain": [
              "ph                 0\n",
              "Hardness           0\n",
              "Solids             0\n",
              "Chloramines        0\n",
              "Sulfate            0\n",
              "Conductivity       0\n",
              "Organic_carbon     0\n",
              "Trihalomethanes    0\n",
              "Turbidity          0\n",
              "Potability         0\n",
              "dtype: int64"
            ]
          },
          "execution_count": 9,
          "metadata": {},
          "output_type": "execute_result"
        }
      ],
      "source": [
        "df.isnull().sum()"
      ]
    },
    {
      "cell_type": "markdown",
      "metadata": {
        "id": "DxnL7aPqPszk"
      },
      "source": [
        "Como se puede observar dentro de la última tabla, ya no se cuenta con valores faltantes, pues estos fueron llenados con los promedios de sus columnas"
      ]
    },
    {
      "cell_type": "code",
      "execution_count": null,
      "metadata": {
        "id": "Ogd0SoObPszk",
        "outputId": "09c3daf6-c176-4ed7-9083-2a5954bedd59"
      },
      "outputs": [
        {
          "data": {
            "text/html": [
              "<div>\n",
              "<style scoped>\n",
              "    .dataframe tbody tr th:only-of-type {\n",
              "        vertical-align: middle;\n",
              "    }\n",
              "\n",
              "    .dataframe tbody tr th {\n",
              "        vertical-align: top;\n",
              "    }\n",
              "\n",
              "    .dataframe thead th {\n",
              "        text-align: right;\n",
              "    }\n",
              "</style>\n",
              "<table border=\"1\" class=\"dataframe\">\n",
              "  <thead>\n",
              "    <tr style=\"text-align: right;\">\n",
              "      <th></th>\n",
              "      <th>ph</th>\n",
              "      <th>Hardness</th>\n",
              "      <th>Solids</th>\n",
              "      <th>Chloramines</th>\n",
              "      <th>Sulfate</th>\n",
              "      <th>Conductivity</th>\n",
              "      <th>Organic_carbon</th>\n",
              "      <th>Trihalomethanes</th>\n",
              "      <th>Turbidity</th>\n",
              "      <th>Potability</th>\n",
              "    </tr>\n",
              "  </thead>\n",
              "  <tbody>\n",
              "    <tr>\n",
              "      <th>0</th>\n",
              "      <td>7.080795</td>\n",
              "      <td>204.890455</td>\n",
              "      <td>20791.318981</td>\n",
              "      <td>7.300212</td>\n",
              "      <td>368.516441</td>\n",
              "      <td>564.308654</td>\n",
              "      <td>10.379783</td>\n",
              "      <td>86.990970</td>\n",
              "      <td>2.963135</td>\n",
              "      <td>0</td>\n",
              "    </tr>\n",
              "    <tr>\n",
              "      <th>1</th>\n",
              "      <td>3.716080</td>\n",
              "      <td>129.422921</td>\n",
              "      <td>18630.057858</td>\n",
              "      <td>6.635246</td>\n",
              "      <td>333.775777</td>\n",
              "      <td>592.885359</td>\n",
              "      <td>15.180013</td>\n",
              "      <td>56.329076</td>\n",
              "      <td>4.500656</td>\n",
              "      <td>0</td>\n",
              "    </tr>\n",
              "    <tr>\n",
              "      <th>2</th>\n",
              "      <td>8.099124</td>\n",
              "      <td>224.236259</td>\n",
              "      <td>19909.541732</td>\n",
              "      <td>9.275884</td>\n",
              "      <td>333.775777</td>\n",
              "      <td>418.606213</td>\n",
              "      <td>16.868637</td>\n",
              "      <td>66.420093</td>\n",
              "      <td>3.055934</td>\n",
              "      <td>0</td>\n",
              "    </tr>\n",
              "    <tr>\n",
              "      <th>3</th>\n",
              "      <td>8.316766</td>\n",
              "      <td>214.373394</td>\n",
              "      <td>22018.417441</td>\n",
              "      <td>8.059332</td>\n",
              "      <td>356.886136</td>\n",
              "      <td>363.266516</td>\n",
              "      <td>18.436524</td>\n",
              "      <td>100.341674</td>\n",
              "      <td>4.628771</td>\n",
              "      <td>0</td>\n",
              "    </tr>\n",
              "    <tr>\n",
              "      <th>4</th>\n",
              "      <td>9.092223</td>\n",
              "      <td>181.101509</td>\n",
              "      <td>17978.986339</td>\n",
              "      <td>6.546600</td>\n",
              "      <td>310.135738</td>\n",
              "      <td>398.410813</td>\n",
              "      <td>11.558279</td>\n",
              "      <td>31.997993</td>\n",
              "      <td>4.075075</td>\n",
              "      <td>0</td>\n",
              "    </tr>\n",
              "  </tbody>\n",
              "</table>\n",
              "</div>"
            ],
            "text/plain": [
              "         ph    Hardness        Solids  Chloramines     Sulfate  Conductivity  \\\n",
              "0  7.080795  204.890455  20791.318981     7.300212  368.516441    564.308654   \n",
              "1  3.716080  129.422921  18630.057858     6.635246  333.775777    592.885359   \n",
              "2  8.099124  224.236259  19909.541732     9.275884  333.775777    418.606213   \n",
              "3  8.316766  214.373394  22018.417441     8.059332  356.886136    363.266516   \n",
              "4  9.092223  181.101509  17978.986339     6.546600  310.135738    398.410813   \n",
              "\n",
              "   Organic_carbon  Trihalomethanes  Turbidity  Potability  \n",
              "0       10.379783        86.990970   2.963135           0  \n",
              "1       15.180013        56.329076   4.500656           0  \n",
              "2       16.868637        66.420093   3.055934           0  \n",
              "3       18.436524       100.341674   4.628771           0  \n",
              "4       11.558279        31.997993   4.075075           0  "
            ]
          },
          "execution_count": 10,
          "metadata": {},
          "output_type": "execute_result"
        }
      ],
      "source": [
        "df.head()"
      ]
    },
    {
      "cell_type": "markdown",
      "metadata": {
        "id": "vnVC3rVtPszl"
      },
      "source": [
        "## Normalizacion"
      ]
    },
    {
      "cell_type": "code",
      "execution_count": null,
      "metadata": {
        "id": "IRxKUXSuPszl",
        "outputId": "604cec43-ef1f-4585-d428-99d091a4b846"
      },
      "outputs": [
        {
          "data": {
            "text/html": [
              "<div>\n",
              "<style scoped>\n",
              "    .dataframe tbody tr th:only-of-type {\n",
              "        vertical-align: middle;\n",
              "    }\n",
              "\n",
              "    .dataframe tbody tr th {\n",
              "        vertical-align: top;\n",
              "    }\n",
              "\n",
              "    .dataframe thead th {\n",
              "        text-align: right;\n",
              "    }\n",
              "</style>\n",
              "<table border=\"1\" class=\"dataframe\">\n",
              "  <thead>\n",
              "    <tr style=\"text-align: right;\">\n",
              "      <th></th>\n",
              "      <th>ph</th>\n",
              "      <th>Hardness</th>\n",
              "      <th>Solids</th>\n",
              "      <th>Chloramines</th>\n",
              "      <th>Sulfate</th>\n",
              "      <th>Conductivity</th>\n",
              "      <th>Organic_carbon</th>\n",
              "      <th>Trihalomethanes</th>\n",
              "      <th>Turbidity</th>\n",
              "      <th>Potability</th>\n",
              "    </tr>\n",
              "  </thead>\n",
              "  <tbody>\n",
              "    <tr>\n",
              "      <th>0</th>\n",
              "      <td>0.505771</td>\n",
              "      <td>0.571139</td>\n",
              "      <td>0.336096</td>\n",
              "      <td>0.543891</td>\n",
              "      <td>0.680385</td>\n",
              "      <td>0.669439</td>\n",
              "      <td>0.313402</td>\n",
              "      <td>0.699753</td>\n",
              "      <td>0.286091</td>\n",
              "      <td>0.0</td>\n",
              "    </tr>\n",
              "    <tr>\n",
              "      <th>1</th>\n",
              "      <td>0.265434</td>\n",
              "      <td>0.297400</td>\n",
              "      <td>0.300611</td>\n",
              "      <td>0.491839</td>\n",
              "      <td>0.581699</td>\n",
              "      <td>0.719411</td>\n",
              "      <td>0.497319</td>\n",
              "      <td>0.450999</td>\n",
              "      <td>0.576793</td>\n",
              "      <td>0.0</td>\n",
              "    </tr>\n",
              "    <tr>\n",
              "      <th>2</th>\n",
              "      <td>0.578509</td>\n",
              "      <td>0.641311</td>\n",
              "      <td>0.321619</td>\n",
              "      <td>0.698543</td>\n",
              "      <td>0.581699</td>\n",
              "      <td>0.414652</td>\n",
              "      <td>0.562017</td>\n",
              "      <td>0.532866</td>\n",
              "      <td>0.303637</td>\n",
              "      <td>0.0</td>\n",
              "    </tr>\n",
              "    <tr>\n",
              "      <th>3</th>\n",
              "      <td>0.594055</td>\n",
              "      <td>0.605536</td>\n",
              "      <td>0.356244</td>\n",
              "      <td>0.603314</td>\n",
              "      <td>0.647347</td>\n",
              "      <td>0.317880</td>\n",
              "      <td>0.622089</td>\n",
              "      <td>0.808065</td>\n",
              "      <td>0.601015</td>\n",
              "      <td>0.0</td>\n",
              "    </tr>\n",
              "    <tr>\n",
              "      <th>4</th>\n",
              "      <td>0.649445</td>\n",
              "      <td>0.484851</td>\n",
              "      <td>0.289922</td>\n",
              "      <td>0.484900</td>\n",
              "      <td>0.514545</td>\n",
              "      <td>0.379337</td>\n",
              "      <td>0.358555</td>\n",
              "      <td>0.253606</td>\n",
              "      <td>0.496327</td>\n",
              "      <td>0.0</td>\n",
              "    </tr>\n",
              "    <tr>\n",
              "      <th>...</th>\n",
              "      <td>...</td>\n",
              "      <td>...</td>\n",
              "      <td>...</td>\n",
              "      <td>...</td>\n",
              "      <td>...</td>\n",
              "      <td>...</td>\n",
              "      <td>...</td>\n",
              "      <td>...</td>\n",
              "      <td>...</td>\n",
              "      <td>...</td>\n",
              "    </tr>\n",
              "    <tr>\n",
              "      <th>3271</th>\n",
              "      <td>0.333436</td>\n",
              "      <td>0.530482</td>\n",
              "      <td>0.775947</td>\n",
              "      <td>0.533436</td>\n",
              "      <td>0.656047</td>\n",
              "      <td>0.603192</td>\n",
              "      <td>0.448062</td>\n",
              "      <td>0.535037</td>\n",
              "      <td>0.564534</td>\n",
              "      <td>1.0</td>\n",
              "    </tr>\n",
              "    <tr>\n",
              "      <th>3272</th>\n",
              "      <td>0.557775</td>\n",
              "      <td>0.530016</td>\n",
              "      <td>0.279263</td>\n",
              "      <td>0.603473</td>\n",
              "      <td>0.581699</td>\n",
              "      <td>0.368912</td>\n",
              "      <td>0.678284</td>\n",
              "      <td>0.532673</td>\n",
              "      <td>0.254915</td>\n",
              "      <td>1.0</td>\n",
              "    </tr>\n",
              "    <tr>\n",
              "      <th>3273</th>\n",
              "      <td>0.672822</td>\n",
              "      <td>0.465486</td>\n",
              "      <td>0.539101</td>\n",
              "      <td>0.547807</td>\n",
              "      <td>0.581699</td>\n",
              "      <td>0.438152</td>\n",
              "      <td>0.338662</td>\n",
              "      <td>0.560655</td>\n",
              "      <td>0.349570</td>\n",
              "      <td>1.0</td>\n",
              "    </tr>\n",
              "    <tr>\n",
              "      <th>3274</th>\n",
              "      <td>0.366197</td>\n",
              "      <td>0.664407</td>\n",
              "      <td>0.191490</td>\n",
              "      <td>0.465860</td>\n",
              "      <td>0.581699</td>\n",
              "      <td>0.387157</td>\n",
              "      <td>0.343638</td>\n",
              "      <td>0.622659</td>\n",
              "      <td>0.616120</td>\n",
              "      <td>1.0</td>\n",
              "    </tr>\n",
              "    <tr>\n",
              "      <th>3275</th>\n",
              "      <td>0.562477</td>\n",
              "      <td>0.535635</td>\n",
              "      <td>0.280484</td>\n",
              "      <td>0.560259</td>\n",
              "      <td>0.581699</td>\n",
              "      <td>0.255266</td>\n",
              "      <td>0.534114</td>\n",
              "      <td>0.632478</td>\n",
              "      <td>0.162441</td>\n",
              "      <td>1.0</td>\n",
              "    </tr>\n",
              "  </tbody>\n",
              "</table>\n",
              "<p>3276 rows × 10 columns</p>\n",
              "</div>"
            ],
            "text/plain": [
              "            ph  Hardness    Solids  Chloramines   Sulfate  Conductivity  \\\n",
              "0     0.505771  0.571139  0.336096     0.543891  0.680385      0.669439   \n",
              "1     0.265434  0.297400  0.300611     0.491839  0.581699      0.719411   \n",
              "2     0.578509  0.641311  0.321619     0.698543  0.581699      0.414652   \n",
              "3     0.594055  0.605536  0.356244     0.603314  0.647347      0.317880   \n",
              "4     0.649445  0.484851  0.289922     0.484900  0.514545      0.379337   \n",
              "...        ...       ...       ...          ...       ...           ...   \n",
              "3271  0.333436  0.530482  0.775947     0.533436  0.656047      0.603192   \n",
              "3272  0.557775  0.530016  0.279263     0.603473  0.581699      0.368912   \n",
              "3273  0.672822  0.465486  0.539101     0.547807  0.581699      0.438152   \n",
              "3274  0.366197  0.664407  0.191490     0.465860  0.581699      0.387157   \n",
              "3275  0.562477  0.535635  0.280484     0.560259  0.581699      0.255266   \n",
              "\n",
              "      Organic_carbon  Trihalomethanes  Turbidity  Potability  \n",
              "0           0.313402         0.699753   0.286091         0.0  \n",
              "1           0.497319         0.450999   0.576793         0.0  \n",
              "2           0.562017         0.532866   0.303637         0.0  \n",
              "3           0.622089         0.808065   0.601015         0.0  \n",
              "4           0.358555         0.253606   0.496327         0.0  \n",
              "...              ...              ...        ...         ...  \n",
              "3271        0.448062         0.535037   0.564534         1.0  \n",
              "3272        0.678284         0.532673   0.254915         1.0  \n",
              "3273        0.338662         0.560655   0.349570         1.0  \n",
              "3274        0.343638         0.622659   0.616120         1.0  \n",
              "3275        0.534114         0.632478   0.162441         1.0  \n",
              "\n",
              "[3276 rows x 10 columns]"
            ]
          },
          "execution_count": 11,
          "metadata": {},
          "output_type": "execute_result"
        }
      ],
      "source": [
        "scaler = MinMaxScaler()\n",
        "scale = scaler.fit_transform(df)\n",
        "df_scale = pd.DataFrame(scale, columns = df.columns)\n",
        "df_scale"
      ]
    },
    {
      "cell_type": "markdown",
      "metadata": {
        "id": "DHg6q9mkPszm"
      },
      "source": [
        "## PCA"
      ]
    },
    {
      "cell_type": "code",
      "execution_count": null,
      "metadata": {
        "id": "zr43UCZuPszn",
        "outputId": "cc15a800-da5f-4317-a5a3-e32673402759"
      },
      "outputs": [
        {
          "data": {
            "text/plain": [
              "PCA()"
            ]
          },
          "execution_count": 12,
          "metadata": {},
          "output_type": "execute_result"
        }
      ],
      "source": [
        "from sklearn.decomposition import PCA\n",
        "import seaborn as sns\n",
        "import matplotlib.pyplot as plt\n",
        "from sklearn import preprocessing\n",
        "pca = PCA() #definir\n",
        "pca.fit(df_scale) #ajustar"
      ]
    },
    {
      "cell_type": "code",
      "execution_count": null,
      "metadata": {
        "id": "DgisX1jLPszn",
        "outputId": "dddc7e7e-54d7-45d6-b64a-c1e4df7e4ae4"
      },
      "outputs": [
        {
          "data": {
            "text/plain": [
              "array([0.23805766, 0.02229773, 0.02128803, 0.01996458, 0.01660955,\n",
              "       0.01588693, 0.01550224, 0.01422138, 0.01057376, 0.00964676])"
            ]
          },
          "execution_count": 13,
          "metadata": {},
          "output_type": "execute_result"
        }
      ],
      "source": [
        "pca.explained_variance_"
      ]
    },
    {
      "cell_type": "code",
      "execution_count": null,
      "metadata": {
        "id": "4OpLy1gnPszo",
        "outputId": "0c8d1534-0b7f-4ac7-a88d-60fdc78dee3e"
      },
      "outputs": [
        {
          "data": {
            "text/plain": [
              "array([0.61986335, 0.05805966, 0.05543057, 0.0519845 , 0.04324856,\n",
              "       0.04136697, 0.04036532, 0.03703015, 0.02753234, 0.02511859])"
            ]
          },
          "execution_count": 14,
          "metadata": {},
          "output_type": "execute_result"
        }
      ],
      "source": [
        "pca.explained_variance_ratio_"
      ]
    },
    {
      "cell_type": "code",
      "execution_count": null,
      "metadata": {
        "id": "nLkydFTuPszo"
      },
      "outputs": [],
      "source": [
        "pca_summary_df = pd.DataFrame({'Proporción de la varianza': pca.explained_variance_ratio_,\n",
        "                               'Proporción acumulada': np.cumsum(pca.explained_variance_ratio_)})"
      ]
    },
    {
      "cell_type": "code",
      "execution_count": null,
      "metadata": {
        "id": "k-1FIAwFPszo",
        "outputId": "b14d7db4-3c14-40c3-b3f0-04a6c4b32d64"
      },
      "outputs": [
        {
          "data": {
            "text/html": [
              "<div>\n",
              "<style scoped>\n",
              "    .dataframe tbody tr th:only-of-type {\n",
              "        vertical-align: middle;\n",
              "    }\n",
              "\n",
              "    .dataframe tbody tr th {\n",
              "        vertical-align: top;\n",
              "    }\n",
              "\n",
              "    .dataframe thead th {\n",
              "        text-align: right;\n",
              "    }\n",
              "</style>\n",
              "<table border=\"1\" class=\"dataframe\">\n",
              "  <thead>\n",
              "    <tr style=\"text-align: right;\">\n",
              "      <th></th>\n",
              "      <th>0</th>\n",
              "      <th>1</th>\n",
              "      <th>2</th>\n",
              "      <th>3</th>\n",
              "      <th>4</th>\n",
              "      <th>5</th>\n",
              "      <th>6</th>\n",
              "      <th>7</th>\n",
              "      <th>8</th>\n",
              "      <th>9</th>\n",
              "    </tr>\n",
              "  </thead>\n",
              "  <tbody>\n",
              "    <tr>\n",
              "      <th>Proporción de la varianza</th>\n",
              "      <td>0.619863</td>\n",
              "      <td>0.058060</td>\n",
              "      <td>0.055431</td>\n",
              "      <td>0.051985</td>\n",
              "      <td>0.043249</td>\n",
              "      <td>0.041367</td>\n",
              "      <td>0.040365</td>\n",
              "      <td>0.037030</td>\n",
              "      <td>0.027532</td>\n",
              "      <td>0.025119</td>\n",
              "    </tr>\n",
              "    <tr>\n",
              "      <th>Proporción acumulada</th>\n",
              "      <td>0.619863</td>\n",
              "      <td>0.677923</td>\n",
              "      <td>0.733354</td>\n",
              "      <td>0.785338</td>\n",
              "      <td>0.828587</td>\n",
              "      <td>0.869954</td>\n",
              "      <td>0.910319</td>\n",
              "      <td>0.947349</td>\n",
              "      <td>0.974881</td>\n",
              "      <td>1.000000</td>\n",
              "    </tr>\n",
              "  </tbody>\n",
              "</table>\n",
              "</div>"
            ],
            "text/plain": [
              "                                  0         1         2         3         4  \\\n",
              "Proporción de la varianza  0.619863  0.058060  0.055431  0.051985  0.043249   \n",
              "Proporción acumulada       0.619863  0.677923  0.733354  0.785338  0.828587   \n",
              "\n",
              "                                  5         6         7         8         9  \n",
              "Proporción de la varianza  0.041367  0.040365  0.037030  0.027532  0.025119  \n",
              "Proporción acumulada       0.869954  0.910319  0.947349  0.974881  1.000000  "
            ]
          },
          "execution_count": 16,
          "metadata": {},
          "output_type": "execute_result"
        }
      ],
      "source": [
        "pca_summary_df = pca_summary_df.transpose()\n",
        "pca_summary_df"
      ]
    },
    {
      "cell_type": "code",
      "execution_count": null,
      "metadata": {
        "id": "EemwcOiIPszp",
        "outputId": "b80dac85-0b3f-4e43-bad6-6dc1580da448"
      },
      "outputs": [
        {
          "data": {
            "text/html": [
              "<div>\n",
              "<style scoped>\n",
              "    .dataframe tbody tr th:only-of-type {\n",
              "        vertical-align: middle;\n",
              "    }\n",
              "\n",
              "    .dataframe tbody tr th {\n",
              "        vertical-align: top;\n",
              "    }\n",
              "\n",
              "    .dataframe thead th {\n",
              "        text-align: right;\n",
              "    }\n",
              "</style>\n",
              "<table border=\"1\" class=\"dataframe\">\n",
              "  <thead>\n",
              "    <tr style=\"text-align: right;\">\n",
              "      <th></th>\n",
              "      <th>PC1</th>\n",
              "      <th>PC2</th>\n",
              "      <th>PC3</th>\n",
              "      <th>PC4</th>\n",
              "      <th>PC5</th>\n",
              "      <th>PC6</th>\n",
              "      <th>PC7</th>\n",
              "      <th>PC8</th>\n",
              "      <th>PC9</th>\n",
              "      <th>PC10</th>\n",
              "    </tr>\n",
              "  </thead>\n",
              "  <tbody>\n",
              "    <tr>\n",
              "      <th>Proporción de la varianza</th>\n",
              "      <td>0.619863</td>\n",
              "      <td>0.058060</td>\n",
              "      <td>0.055431</td>\n",
              "      <td>0.051985</td>\n",
              "      <td>0.043249</td>\n",
              "      <td>0.041367</td>\n",
              "      <td>0.040365</td>\n",
              "      <td>0.037030</td>\n",
              "      <td>0.027532</td>\n",
              "      <td>0.025119</td>\n",
              "    </tr>\n",
              "    <tr>\n",
              "      <th>Proporción acumulada</th>\n",
              "      <td>0.619863</td>\n",
              "      <td>0.677923</td>\n",
              "      <td>0.733354</td>\n",
              "      <td>0.785338</td>\n",
              "      <td>0.828587</td>\n",
              "      <td>0.869954</td>\n",
              "      <td>0.910319</td>\n",
              "      <td>0.947349</td>\n",
              "      <td>0.974881</td>\n",
              "      <td>1.000000</td>\n",
              "    </tr>\n",
              "  </tbody>\n",
              "</table>\n",
              "</div>"
            ],
            "text/plain": [
              "                                PC1       PC2       PC3       PC4       PC5  \\\n",
              "Proporción de la varianza  0.619863  0.058060  0.055431  0.051985  0.043249   \n",
              "Proporción acumulada       0.619863  0.677923  0.733354  0.785338  0.828587   \n",
              "\n",
              "                                PC6       PC7       PC8       PC9      PC10  \n",
              "Proporción de la varianza  0.041367  0.040365  0.037030  0.027532  0.025119  \n",
              "Proporción acumulada       0.869954  0.910319  0.947349  0.974881  1.000000  "
            ]
          },
          "execution_count": 17,
          "metadata": {},
          "output_type": "execute_result"
        }
      ],
      "source": [
        "pca_summary_df.columns = ['PC' + str(pc) for pc in range(1, len(pca_summary_df.columns) + 1)]\n",
        "pca_summary_df"
      ]
    },
    {
      "cell_type": "code",
      "execution_count": null,
      "metadata": {
        "id": "WHNdhiaEPszp",
        "outputId": "ed988e1b-cc11-4337-e973-2562f0c33c73"
      },
      "outputs": [
        {
          "data": {
            "text/plain": [
              "array([ 1,  2,  3,  4,  5,  6,  7,  8,  9, 10])"
            ]
          },
          "execution_count": 18,
          "metadata": {},
          "output_type": "execute_result"
        }
      ],
      "source": [
        "components = np.arange(pca.n_components_) + 1\n",
        "components"
      ]
    },
    {
      "cell_type": "code",
      "execution_count": null,
      "metadata": {
        "id": "mZNQmWwHPszq"
      },
      "outputs": [],
      "source": [
        "variance = pca.explained_variance_ratio_"
      ]
    },
    {
      "cell_type": "code",
      "execution_count": null,
      "metadata": {
        "id": "kBg-tFWlPszq",
        "outputId": "5d23890c-d1ff-47b9-fb7d-63f6d80ae8c6"
      },
      "outputs": [
        {
          "data": {
            "image/png": "[encoded data removed]",
            "text/plain": [
              "<Figure size 432x288 with 1 Axes>"
            ]
          },
          "metadata": {
            "needs_background": "light"
          },
          "output_type": "display_data"
        }
      ],
      "source": [
        "sns.barplot(x = components, y = variance, color = 'b')\n",
        "plt.xlabel('Principal components')\n",
        "plt.ylabel('Variance expaliced')\n",
        "plt.ylim(0,1)\n",
        "plt.show()"
      ]
    },
    {
      "cell_type": "code",
      "execution_count": null,
      "metadata": {
        "id": "q_0s_QHAPszq",
        "outputId": "6ed4f9cb-a64f-494d-af86-1351922c9f28"
      },
      "outputs": [
        {
          "data": {
            "text/html": [
              "<div>\n",
              "<style scoped>\n",
              "    .dataframe tbody tr th:only-of-type {\n",
              "        vertical-align: middle;\n",
              "    }\n",
              "\n",
              "    .dataframe tbody tr th {\n",
              "        vertical-align: top;\n",
              "    }\n",
              "\n",
              "    .dataframe thead th {\n",
              "        text-align: right;\n",
              "    }\n",
              "</style>\n",
              "<table border=\"1\" class=\"dataframe\">\n",
              "  <thead>\n",
              "    <tr style=\"text-align: right;\">\n",
              "      <th></th>\n",
              "      <th>PC1</th>\n",
              "      <th>PC2</th>\n",
              "      <th>PC3</th>\n",
              "      <th>PC4</th>\n",
              "      <th>PC5</th>\n",
              "      <th>PC6</th>\n",
              "      <th>PC7</th>\n",
              "      <th>PC8</th>\n",
              "      <th>PC9</th>\n",
              "      <th>PC10</th>\n",
              "    </tr>\n",
              "  </thead>\n",
              "  <tbody>\n",
              "    <tr>\n",
              "      <th>ph</th>\n",
              "      <td>-0.000855</td>\n",
              "      <td>-0.106567</td>\n",
              "      <td>-0.039946</td>\n",
              "      <td>0.061428</td>\n",
              "      <td>0.091878</td>\n",
              "      <td>0.086348</td>\n",
              "      <td>0.177421</td>\n",
              "      <td>0.093777</td>\n",
              "      <td>0.955527</td>\n",
              "      <td>0.118626</td>\n",
              "    </tr>\n",
              "    <tr>\n",
              "      <th>Hardness</th>\n",
              "      <td>-0.003628</td>\n",
              "      <td>-0.077840</td>\n",
              "      <td>-0.040876</td>\n",
              "      <td>-0.032943</td>\n",
              "      <td>0.158052</td>\n",
              "      <td>0.018274</td>\n",
              "      <td>0.534059</td>\n",
              "      <td>0.753340</td>\n",
              "      <td>-0.161603</td>\n",
              "      <td>-0.294960</td>\n",
              "    </tr>\n",
              "    <tr>\n",
              "      <th>Solids</th>\n",
              "      <td>0.010921</td>\n",
              "      <td>0.591724</td>\n",
              "      <td>0.708496</td>\n",
              "      <td>-0.241231</td>\n",
              "      <td>-0.046380</td>\n",
              "      <td>-0.001548</td>\n",
              "      <td>-0.106794</td>\n",
              "      <td>0.130230</td>\n",
              "      <td>0.146822</td>\n",
              "      <td>-0.193672</td>\n",
              "    </tr>\n",
              "    <tr>\n",
              "      <th>Chloramines</th>\n",
              "      <td>0.006409</td>\n",
              "      <td>-0.105243</td>\n",
              "      <td>-0.170675</td>\n",
              "      <td>-0.010123</td>\n",
              "      <td>-0.250213</td>\n",
              "      <td>-0.045336</td>\n",
              "      <td>-0.743334</td>\n",
              "      <td>0.577922</td>\n",
              "      <td>0.091809</td>\n",
              "      <td>-0.004563</td>\n",
              "    </tr>\n",
              "    <tr>\n",
              "      <th>Sulfate</th>\n",
              "      <td>-0.004633</td>\n",
              "      <td>-0.118957</td>\n",
              "      <td>-0.139285</td>\n",
              "      <td>0.042264</td>\n",
              "      <td>0.049853</td>\n",
              "      <td>0.018978</td>\n",
              "      <td>-0.146774</td>\n",
              "      <td>-0.257091</td>\n",
              "      <td>0.138949</td>\n",
              "      <td>-0.924581</td>\n",
              "    </tr>\n",
              "    <tr>\n",
              "      <th>Conductivity</th>\n",
              "      <td>-0.002570</td>\n",
              "      <td>0.133708</td>\n",
              "      <td>0.197064</td>\n",
              "      <td>0.962522</td>\n",
              "      <td>-0.052623</td>\n",
              "      <td>-0.089470</td>\n",
              "      <td>-0.005664</td>\n",
              "      <td>0.066473</td>\n",
              "      <td>-0.027425</td>\n",
              "      <td>-0.029259</td>\n",
              "    </tr>\n",
              "    <tr>\n",
              "      <th>Organic_carbon</th>\n",
              "      <td>-0.008370</td>\n",
              "      <td>-0.045671</td>\n",
              "      <td>0.094860</td>\n",
              "      <td>0.085677</td>\n",
              "      <td>0.461873</td>\n",
              "      <td>0.843371</td>\n",
              "      <td>-0.209960</td>\n",
              "      <td>0.033212</td>\n",
              "      <td>-0.097403</td>\n",
              "      <td>0.047216</td>\n",
              "    </tr>\n",
              "    <tr>\n",
              "      <th>Trihalomethanes</th>\n",
              "      <td>0.001976</td>\n",
              "      <td>-0.063085</td>\n",
              "      <td>0.026478</td>\n",
              "      <td>0.006619</td>\n",
              "      <td>-0.826513</td>\n",
              "      <td>0.506087</td>\n",
              "      <td>0.227464</td>\n",
              "      <td>-0.028855</td>\n",
              "      <td>-0.004746</td>\n",
              "      <td>-0.058556</td>\n",
              "    </tr>\n",
              "    <tr>\n",
              "      <th>Turbidity</th>\n",
              "      <td>0.000573</td>\n",
              "      <td>0.763693</td>\n",
              "      <td>-0.630610</td>\n",
              "      <td>0.034520</td>\n",
              "      <td>0.006788</td>\n",
              "      <td>0.119783</td>\n",
              "      <td>0.043911</td>\n",
              "      <td>0.016498</td>\n",
              "      <td>0.035964</td>\n",
              "      <td>-0.005011</td>\n",
              "    </tr>\n",
              "    <tr>\n",
              "      <th>Potability</th>\n",
              "      <td>0.999862</td>\n",
              "      <td>-0.007064</td>\n",
              "      <td>-0.005863</td>\n",
              "      <td>0.005987</td>\n",
              "      <td>0.008354</td>\n",
              "      <td>0.006297</td>\n",
              "      <td>0.005094</td>\n",
              "      <td>-0.003008</td>\n",
              "      <td>-0.002215</td>\n",
              "      <td>-0.002670</td>\n",
              "    </tr>\n",
              "  </tbody>\n",
              "</table>\n",
              "</div>"
            ],
            "text/plain": [
              "                      PC1       PC2       PC3       PC4       PC5       PC6  \\\n",
              "ph              -0.000855 -0.106567 -0.039946  0.061428  0.091878  0.086348   \n",
              "Hardness        -0.003628 -0.077840 -0.040876 -0.032943  0.158052  0.018274   \n",
              "Solids           0.010921  0.591724  0.708496 -0.241231 -0.046380 -0.001548   \n",
              "Chloramines      0.006409 -0.105243 -0.170675 -0.010123 -0.250213 -0.045336   \n",
              "Sulfate         -0.004633 -0.118957 -0.139285  0.042264  0.049853  0.018978   \n",
              "Conductivity    -0.002570  0.133708  0.197064  0.962522 -0.052623 -0.089470   \n",
              "Organic_carbon  -0.008370 -0.045671  0.094860  0.085677  0.461873  0.843371   \n",
              "Trihalomethanes  0.001976 -0.063085  0.026478  0.006619 -0.826513  0.506087   \n",
              "Turbidity        0.000573  0.763693 -0.630610  0.034520  0.006788  0.119783   \n",
              "Potability       0.999862 -0.007064 -0.005863  0.005987  0.008354  0.006297   \n",
              "\n",
              "                      PC7       PC8       PC9      PC10  \n",
              "ph               0.177421  0.093777  0.955527  0.118626  \n",
              "Hardness         0.534059  0.753340 -0.161603 -0.294960  \n",
              "Solids          -0.106794  0.130230  0.146822 -0.193672  \n",
              "Chloramines     -0.743334  0.577922  0.091809 -0.004563  \n",
              "Sulfate         -0.146774 -0.257091  0.138949 -0.924581  \n",
              "Conductivity    -0.005664  0.066473 -0.027425 -0.029259  \n",
              "Organic_carbon  -0.209960  0.033212 -0.097403  0.047216  \n",
              "Trihalomethanes  0.227464 -0.028855 -0.004746 -0.058556  \n",
              "Turbidity        0.043911  0.016498  0.035964 -0.005011  \n",
              "Potability       0.005094 -0.003008 -0.002215 -0.002670  "
            ]
          },
          "execution_count": 21,
          "metadata": {},
          "output_type": "execute_result"
        }
      ],
      "source": [
        "pca_components_df = pd.DataFrame(pca.components_.transpose(), columns = pca_summary_df.columns, index = df.columns)\n",
        "pca_components_df"
      ]
    },
    {
      "cell_type": "code",
      "execution_count": null,
      "metadata": {
        "id": "x4rr9SAdPszr",
        "outputId": "7a3b3494-17be-4174-da8f-c913775160e8"
      },
      "outputs": [
        {
          "data": {
            "text/plain": [
              "PCA(n_components=3)"
            ]
          },
          "execution_count": 22,
          "metadata": {},
          "output_type": "execute_result"
        }
      ],
      "source": [
        "pca = PCA(n_components = 3)\n",
        "pca.fit(preprocessing.scale(df))"
      ]
    },
    {
      "cell_type": "code",
      "execution_count": null,
      "metadata": {
        "id": "KRK-8cPOPszr",
        "outputId": "6673d5fa-ae17-4c5d-e145-958dfd1575c7"
      },
      "outputs": [
        {
          "data": {
            "text/plain": [
              "array([1.2062978 , 1.14018056, 1.06556663])"
            ]
          },
          "execution_count": 23,
          "metadata": {},
          "output_type": "execute_result"
        }
      ],
      "source": [
        "pca.explained_variance_"
      ]
    },
    {
      "cell_type": "code",
      "execution_count": null,
      "metadata": {
        "id": "QW9OX3MGPszr",
        "outputId": "7cef0956-a25a-43d4-e948-9bace989b702"
      },
      "outputs": [
        {
          "data": {
            "text/plain": [
              "array([0.12059296, 0.11398325, 0.10652414])"
            ]
          },
          "execution_count": 24,
          "metadata": {},
          "output_type": "execute_result"
        }
      ],
      "source": [
        "pca.explained_variance_ratio_"
      ]
    },
    {
      "cell_type": "code",
      "execution_count": null,
      "metadata": {
        "id": "Wp-c655pPszr",
        "outputId": "13eb6a50-3052-4809-fae7-72688eab87f0"
      },
      "outputs": [
        {
          "data": {
            "text/html": [
              "<div>\n",
              "<style scoped>\n",
              "    .dataframe tbody tr th:only-of-type {\n",
              "        vertical-align: middle;\n",
              "    }\n",
              "\n",
              "    .dataframe tbody tr th {\n",
              "        vertical-align: top;\n",
              "    }\n",
              "\n",
              "    .dataframe thead th {\n",
              "        text-align: right;\n",
              "    }\n",
              "</style>\n",
              "<table border=\"1\" class=\"dataframe\">\n",
              "  <thead>\n",
              "    <tr style=\"text-align: right;\">\n",
              "      <th></th>\n",
              "      <th>PC1</th>\n",
              "      <th>PC2</th>\n",
              "      <th>PC3</th>\n",
              "    </tr>\n",
              "  </thead>\n",
              "  <tbody>\n",
              "    <tr>\n",
              "      <th>Proporción de la varianza</th>\n",
              "      <td>0.120593</td>\n",
              "      <td>0.113983</td>\n",
              "      <td>0.106524</td>\n",
              "    </tr>\n",
              "    <tr>\n",
              "      <th>Proporción acumulada</th>\n",
              "      <td>0.120593</td>\n",
              "      <td>0.234576</td>\n",
              "      <td>0.341100</td>\n",
              "    </tr>\n",
              "  </tbody>\n",
              "</table>\n",
              "</div>"
            ],
            "text/plain": [
              "                                PC1       PC2       PC3\n",
              "Proporción de la varianza  0.120593  0.113983  0.106524\n",
              "Proporción acumulada       0.120593  0.234576  0.341100"
            ]
          },
          "execution_count": 25,
          "metadata": {},
          "output_type": "execute_result"
        }
      ],
      "source": [
        "pca_summary_df = pd.DataFrame({'Proporción de la varianza': pca.explained_variance_ratio_,\n",
        "                               'Proporción acumulada': np.cumsum(pca.explained_variance_ratio_)})\n",
        "                               \n",
        "pca_summary_df = pca_summary_df.transpose()\n",
        "pca_summary_df.columns = ['PC' + str(pc) for pc in range(1, len(pca_summary_df.columns) + 1)]\n",
        "\n",
        "pca_summary_df"
      ]
    },
    {
      "cell_type": "code",
      "execution_count": null,
      "metadata": {
        "id": "zyb5HP57Pszu",
        "outputId": "738b573f-8870-435c-8021-0b3d48b19f95"
      },
      "outputs": [
        {
          "data": {
            "text/html": [
              "<div>\n",
              "<style scoped>\n",
              "    .dataframe tbody tr th:only-of-type {\n",
              "        vertical-align: middle;\n",
              "    }\n",
              "\n",
              "    .dataframe tbody tr th {\n",
              "        vertical-align: top;\n",
              "    }\n",
              "\n",
              "    .dataframe thead th {\n",
              "        text-align: right;\n",
              "    }\n",
              "</style>\n",
              "<table border=\"1\" class=\"dataframe\">\n",
              "  <thead>\n",
              "    <tr style=\"text-align: right;\">\n",
              "      <th></th>\n",
              "      <th>PC1</th>\n",
              "      <th>PC2</th>\n",
              "      <th>PC3</th>\n",
              "    </tr>\n",
              "  </thead>\n",
              "  <tbody>\n",
              "    <tr>\n",
              "      <th>ph</th>\n",
              "      <td>-0.329565</td>\n",
              "      <td>-0.513798</td>\n",
              "      <td>0.036694</td>\n",
              "    </tr>\n",
              "    <tr>\n",
              "      <th>Hardness</th>\n",
              "      <td>-0.017509</td>\n",
              "      <td>-0.610605</td>\n",
              "      <td>0.365602</td>\n",
              "    </tr>\n",
              "    <tr>\n",
              "      <th>Solids</th>\n",
              "      <td>0.663872</td>\n",
              "      <td>0.006282</td>\n",
              "      <td>-0.202290</td>\n",
              "    </tr>\n",
              "    <tr>\n",
              "      <th>Chloramines</th>\n",
              "      <td>-0.214227</td>\n",
              "      <td>0.362433</td>\n",
              "      <td>0.370996</td>\n",
              "    </tr>\n",
              "    <tr>\n",
              "      <th>Sulfate</th>\n",
              "      <td>-0.571704</td>\n",
              "      <td>0.333483</td>\n",
              "      <td>-0.237979</td>\n",
              "    </tr>\n",
              "    <tr>\n",
              "      <th>Conductivity</th>\n",
              "      <td>0.064029</td>\n",
              "      <td>-0.076287</td>\n",
              "      <td>-0.431794</td>\n",
              "    </tr>\n",
              "    <tr>\n",
              "      <th>Organic_carbon</th>\n",
              "      <td>-0.133857</td>\n",
              "      <td>-0.217081</td>\n",
              "      <td>-0.498309</td>\n",
              "    </tr>\n",
              "    <tr>\n",
              "      <th>Trihalomethanes</th>\n",
              "      <td>0.018607</td>\n",
              "      <td>0.019034</td>\n",
              "      <td>0.281985</td>\n",
              "    </tr>\n",
              "    <tr>\n",
              "      <th>Turbidity</th>\n",
              "      <td>0.165820</td>\n",
              "      <td>0.217738</td>\n",
              "      <td>-0.027320</td>\n",
              "    </tr>\n",
              "    <tr>\n",
              "      <th>Potability</th>\n",
              "      <td>0.166599</td>\n",
              "      <td>0.140890</td>\n",
              "      <td>0.338785</td>\n",
              "    </tr>\n",
              "  </tbody>\n",
              "</table>\n",
              "</div>"
            ],
            "text/plain": [
              "                      PC1       PC2       PC3\n",
              "ph              -0.329565 -0.513798  0.036694\n",
              "Hardness        -0.017509 -0.610605  0.365602\n",
              "Solids           0.663872  0.006282 -0.202290\n",
              "Chloramines     -0.214227  0.362433  0.370996\n",
              "Sulfate         -0.571704  0.333483 -0.237979\n",
              "Conductivity     0.064029 -0.076287 -0.431794\n",
              "Organic_carbon  -0.133857 -0.217081 -0.498309\n",
              "Trihalomethanes  0.018607  0.019034  0.281985\n",
              "Turbidity        0.165820  0.217738 -0.027320\n",
              "Potability       0.166599  0.140890  0.338785"
            ]
          },
          "execution_count": 26,
          "metadata": {},
          "output_type": "execute_result"
        }
      ],
      "source": [
        "pca_components_df = pd.DataFrame(pca.components_.transpose(), columns = pca_summary_df.columns, index = df.columns)\n",
        "pca_components_df"
      ]
    },
    {
      "cell_type": "markdown",
      "metadata": {
        "id": "KyvnvbjIPszw"
      },
      "source": [
        "### k - means     "
      ]
    },
    {
      "cell_type": "code",
      "execution_count": null,
      "metadata": {
        "id": "p9bsdLvHPszw",
        "outputId": "b2845975-f3bb-4447-c95c-0d4a0e507c00"
      },
      "outputs": [
        {
          "data": {
            "text/plain": [
              "array([2, 1, 2, ..., 0, 0, 0])"
            ]
          },
          "execution_count": 33,
          "metadata": {},
          "output_type": "execute_result"
        }
      ],
      "source": [
        "km = KMeans(n_clusters=3)\n",
        "km.fit_predict(df_scale)"
      ]
    },
    {
      "cell_type": "code",
      "execution_count": null,
      "metadata": {
        "id": "0aYZcfkiPszx",
        "outputId": "2be069b3-9fdc-4409-efec-1c5e23e6ed90"
      },
      "outputs": [
        {
          "data": {
            "text/plain": [
              "array([[ 5.05339595e-01,  5.38168479e-01,  3.62246029e-01,\n",
              "         5.33646812e-01,  5.79052212e-01,  4.26503917e-01,\n",
              "         4.58271744e-01,  5.33785861e-01,  4.76144505e-01,\n",
              "         1.00000000e+00],\n",
              "       [ 4.79772107e-01,  5.23570454e-01,  3.93076105e-01,\n",
              "         5.30779393e-01,  5.80674460e-01,  4.61172493e-01,\n",
              "         4.57936584e-01,  5.27633934e-01,  5.82737287e-01,\n",
              "        -1.66533454e-16],\n",
              "       [ 5.30988928e-01,  5.58619460e-01,  3.13569337e-01,\n",
              "         5.24594806e-01,  5.85970785e-01,  3.98184411e-01,\n",
              "         4.73783944e-01,  5.36067675e-01,  3.74027468e-01,\n",
              "        -5.55111512e-17]])"
            ]
          },
          "execution_count": 34,
          "metadata": {},
          "output_type": "execute_result"
        }
      ],
      "source": [
        "km.cluster_centers_"
      ]
    },
    {
      "cell_type": "code",
      "execution_count": null,
      "metadata": {
        "id": "8J7m1c2uPszx",
        "outputId": "f4f33b7a-519a-4166-86e3-c4442ca2cdd7"
      },
      "outputs": [
        {
          "data": {
            "text/html": [
              "<div>\n",
              "<style scoped>\n",
              "    .dataframe tbody tr th:only-of-type {\n",
              "        vertical-align: middle;\n",
              "    }\n",
              "\n",
              "    .dataframe tbody tr th {\n",
              "        vertical-align: top;\n",
              "    }\n",
              "\n",
              "    .dataframe thead th {\n",
              "        text-align: right;\n",
              "    }\n",
              "</style>\n",
              "<table border=\"1\" class=\"dataframe\">\n",
              "  <thead>\n",
              "    <tr style=\"text-align: right;\">\n",
              "      <th></th>\n",
              "      <th>ph</th>\n",
              "      <th>Hardness</th>\n",
              "      <th>Solids</th>\n",
              "      <th>Chloramines</th>\n",
              "      <th>Sulfate</th>\n",
              "      <th>Conductivity</th>\n",
              "      <th>Organic_carbon</th>\n",
              "      <th>Trihalomethanes</th>\n",
              "      <th>Turbidity</th>\n",
              "      <th>Potability</th>\n",
              "      <th>Clusters</th>\n",
              "    </tr>\n",
              "  </thead>\n",
              "  <tbody>\n",
              "    <tr>\n",
              "      <th>0</th>\n",
              "      <td>0.505771</td>\n",
              "      <td>0.571139</td>\n",
              "      <td>0.336096</td>\n",
              "      <td>0.543891</td>\n",
              "      <td>0.680385</td>\n",
              "      <td>0.669439</td>\n",
              "      <td>0.313402</td>\n",
              "      <td>0.699753</td>\n",
              "      <td>0.286091</td>\n",
              "      <td>0.0</td>\n",
              "      <td>2</td>\n",
              "    </tr>\n",
              "    <tr>\n",
              "      <th>1</th>\n",
              "      <td>0.265434</td>\n",
              "      <td>0.297400</td>\n",
              "      <td>0.300611</td>\n",
              "      <td>0.491839</td>\n",
              "      <td>0.581699</td>\n",
              "      <td>0.719411</td>\n",
              "      <td>0.497319</td>\n",
              "      <td>0.450999</td>\n",
              "      <td>0.576793</td>\n",
              "      <td>0.0</td>\n",
              "      <td>1</td>\n",
              "    </tr>\n",
              "    <tr>\n",
              "      <th>2</th>\n",
              "      <td>0.578509</td>\n",
              "      <td>0.641311</td>\n",
              "      <td>0.321619</td>\n",
              "      <td>0.698543</td>\n",
              "      <td>0.581699</td>\n",
              "      <td>0.414652</td>\n",
              "      <td>0.562017</td>\n",
              "      <td>0.532866</td>\n",
              "      <td>0.303637</td>\n",
              "      <td>0.0</td>\n",
              "      <td>2</td>\n",
              "    </tr>\n",
              "    <tr>\n",
              "      <th>3</th>\n",
              "      <td>0.594055</td>\n",
              "      <td>0.605536</td>\n",
              "      <td>0.356244</td>\n",
              "      <td>0.603314</td>\n",
              "      <td>0.647347</td>\n",
              "      <td>0.317880</td>\n",
              "      <td>0.622089</td>\n",
              "      <td>0.808065</td>\n",
              "      <td>0.601015</td>\n",
              "      <td>0.0</td>\n",
              "      <td>1</td>\n",
              "    </tr>\n",
              "    <tr>\n",
              "      <th>4</th>\n",
              "      <td>0.649445</td>\n",
              "      <td>0.484851</td>\n",
              "      <td>0.289922</td>\n",
              "      <td>0.484900</td>\n",
              "      <td>0.514545</td>\n",
              "      <td>0.379337</td>\n",
              "      <td>0.358555</td>\n",
              "      <td>0.253606</td>\n",
              "      <td>0.496327</td>\n",
              "      <td>0.0</td>\n",
              "      <td>2</td>\n",
              "    </tr>\n",
              "  </tbody>\n",
              "</table>\n",
              "</div>"
            ],
            "text/plain": [
              "         ph  Hardness    Solids  Chloramines   Sulfate  Conductivity  \\\n",
              "0  0.505771  0.571139  0.336096     0.543891  0.680385      0.669439   \n",
              "1  0.265434  0.297400  0.300611     0.491839  0.581699      0.719411   \n",
              "2  0.578509  0.641311  0.321619     0.698543  0.581699      0.414652   \n",
              "3  0.594055  0.605536  0.356244     0.603314  0.647347      0.317880   \n",
              "4  0.649445  0.484851  0.289922     0.484900  0.514545      0.379337   \n",
              "\n",
              "   Organic_carbon  Trihalomethanes  Turbidity  Potability  Clusters  \n",
              "0        0.313402         0.699753   0.286091         0.0         2  \n",
              "1        0.497319         0.450999   0.576793         0.0         1  \n",
              "2        0.562017         0.532866   0.303637         0.0         2  \n",
              "3        0.622089         0.808065   0.601015         0.0         1  \n",
              "4        0.358555         0.253606   0.496327         0.0         2  "
            ]
          },
          "execution_count": 35,
          "metadata": {},
          "output_type": "execute_result"
        }
      ],
      "source": [
        "df_scale['Clusters'] = km.labels_\n",
        "df_scale.head()"
      ]
    },
    {
      "cell_type": "code",
      "execution_count": null,
      "metadata": {
        "id": "b-ps4UsYPszx",
        "outputId": "f7b24df8-f049-4064-b601-679a5731a1fd"
      },
      "outputs": [
        {
          "data": {
            "text/plain": [
              "Index(['ph', 'Hardness', 'Solids', 'Chloramines', 'Sulfate', 'Conductivity',\n",
              "       'Organic_carbon', 'Trihalomethanes', 'Turbidity', 'Potability',\n",
              "       'Clusters'],\n",
              "      dtype='object')"
            ]
          },
          "execution_count": 37,
          "metadata": {},
          "output_type": "execute_result"
        }
      ],
      "source": [
        "df_scale.columns"
      ]
    },
    {
      "cell_type": "code",
      "execution_count": null,
      "metadata": {
        "id": "apzhSppaPszy",
        "outputId": "c1e001db-b0ce-47ef-8257-d30ba9275d87"
      },
      "outputs": [
        {
          "data": {
            "text/plain": [
              "<AxesSubplot:xlabel='ph', ylabel='Conductivity'>"
            ]
          },
          "execution_count": 39,
          "metadata": {},
          "output_type": "execute_result"
        },
        {
          "data": {
            "image/png": "[encoded data removed]",
            "text/plain": [
              "<Figure size 432x288 with 1 Axes>"
            ]
          },
          "metadata": {
            "needs_background": "light"
          },
          "output_type": "display_data"
        }
      ],
      "source": [
        "sns.scatterplot(x ='ph', y ='Conductivity' , hue ='Clusters', data = df_scale, palette = 'viridis')"
      ]
    },
    {
      "cell_type": "markdown",
      "metadata": {
        "id": "ZmJvn9ijPszy"
      },
      "source": [
        "## decision tree"
      ]
    },
    {
      "cell_type": "code",
      "execution_count": null,
      "metadata": {
        "id": "sqV8oRyNPszy"
      },
      "outputs": [],
      "source": [
        "columns = ['ph', 'Hardness', 'Solids', 'Chloramines', 'Sulfate', 'Conductivity',\n",
        "       'Organic_carbon', 'Trihalomethanes', 'Turbidity'] \n",
        "X = df[columns]\n",
        "y = df.Potability "
      ]
    },
    {
      "cell_type": "code",
      "execution_count": null,
      "metadata": {
        "id": "PeQChZZiPsz4"
      },
      "outputs": [],
      "source": [
        "X_train, X_test, y_train, y_test = train_test_split(X, y, test_size=0.3, random_state = 1)"
      ]
    },
    {
      "cell_type": "code",
      "execution_count": null,
      "metadata": {
        "id": "7bDNBSCCPsz5"
      },
      "outputs": [],
      "source": [
        "tree = DecisionTreeClassifier()\n",
        "model_tree = tree.fit(X_train, y_train)\n",
        "y_pred = model_tree.predict(X_test)"
      ]
    },
    {
      "cell_type": "code",
      "execution_count": null,
      "metadata": {
        "id": "oYL4llmKPsz6"
      },
      "outputs": [],
      "source": [
        "y_pred = model_tree.predict(X_test)"
      ]
    },
    {
      "cell_type": "code",
      "execution_count": null,
      "metadata": {
        "id": "ZrfIts8vPsz6"
      },
      "outputs": [],
      "source": [
        "dot_data = StringIO()\n",
        "export_graphviz(model_tree, out_file=dot_data, \n",
        "                filled=True, rounded=True, \n",
        "                special_characters=True, feature_names=columns, class_names=[\"0\",\"1\"])\n",
        "graph = pydotplus.graph_from_dot_data(dot_data.getvalue())\n"
      ]
    },
    {
      "cell_type": "code",
      "execution_count": null,
      "metadata": {
        "id": "momYXZgoPsz6",
        "outputId": "2764b4e9-03be-4bd9-cee7-eeb18abdcf68"
      },
      "outputs": [
        {
          "data": {
            "text/html": [
              "<div>\n",
              "<style scoped>\n",
              "    .dataframe tbody tr th:only-of-type {\n",
              "        vertical-align: middle;\n",
              "    }\n",
              "\n",
              "    .dataframe tbody tr th {\n",
              "        vertical-align: top;\n",
              "    }\n",
              "\n",
              "    .dataframe thead th {\n",
              "        text-align: right;\n",
              "    }\n",
              "</style>\n",
              "<table border=\"1\" class=\"dataframe\">\n",
              "  <thead>\n",
              "    <tr style=\"text-align: right;\">\n",
              "      <th></th>\n",
              "      <th>Real</th>\n",
              "      <th>Predicted</th>\n",
              "    </tr>\n",
              "  </thead>\n",
              "  <tbody>\n",
              "    <tr>\n",
              "      <th>777</th>\n",
              "      <td>1</td>\n",
              "      <td>1</td>\n",
              "    </tr>\n",
              "    <tr>\n",
              "      <th>1307</th>\n",
              "      <td>0</td>\n",
              "      <td>0</td>\n",
              "    </tr>\n",
              "    <tr>\n",
              "      <th>1736</th>\n",
              "      <td>0</td>\n",
              "      <td>0</td>\n",
              "    </tr>\n",
              "    <tr>\n",
              "      <th>959</th>\n",
              "      <td>0</td>\n",
              "      <td>1</td>\n",
              "    </tr>\n",
              "    <tr>\n",
              "      <th>1041</th>\n",
              "      <td>0</td>\n",
              "      <td>1</td>\n",
              "    </tr>\n",
              "    <tr>\n",
              "      <th>1703</th>\n",
              "      <td>0</td>\n",
              "      <td>1</td>\n",
              "    </tr>\n",
              "    <tr>\n",
              "      <th>1064</th>\n",
              "      <td>0</td>\n",
              "      <td>0</td>\n",
              "    </tr>\n",
              "    <tr>\n",
              "      <th>1386</th>\n",
              "      <td>0</td>\n",
              "      <td>1</td>\n",
              "    </tr>\n",
              "    <tr>\n",
              "      <th>82</th>\n",
              "      <td>0</td>\n",
              "      <td>0</td>\n",
              "    </tr>\n",
              "    <tr>\n",
              "      <th>428</th>\n",
              "      <td>0</td>\n",
              "      <td>0</td>\n",
              "    </tr>\n",
              "    <tr>\n",
              "      <th>2348</th>\n",
              "      <td>1</td>\n",
              "      <td>1</td>\n",
              "    </tr>\n",
              "    <tr>\n",
              "      <th>366</th>\n",
              "      <td>1</td>\n",
              "      <td>1</td>\n",
              "    </tr>\n",
              "    <tr>\n",
              "      <th>3199</th>\n",
              "      <td>1</td>\n",
              "      <td>1</td>\n",
              "    </tr>\n",
              "    <tr>\n",
              "      <th>2903</th>\n",
              "      <td>0</td>\n",
              "      <td>0</td>\n",
              "    </tr>\n",
              "    <tr>\n",
              "      <th>1519</th>\n",
              "      <td>1</td>\n",
              "      <td>0</td>\n",
              "    </tr>\n",
              "    <tr>\n",
              "      <th>1903</th>\n",
              "      <td>1</td>\n",
              "      <td>1</td>\n",
              "    </tr>\n",
              "    <tr>\n",
              "      <th>3041</th>\n",
              "      <td>0</td>\n",
              "      <td>0</td>\n",
              "    </tr>\n",
              "    <tr>\n",
              "      <th>2776</th>\n",
              "      <td>1</td>\n",
              "      <td>0</td>\n",
              "    </tr>\n",
              "    <tr>\n",
              "      <th>1697</th>\n",
              "      <td>0</td>\n",
              "      <td>0</td>\n",
              "    </tr>\n",
              "    <tr>\n",
              "      <th>383</th>\n",
              "      <td>1</td>\n",
              "      <td>0</td>\n",
              "    </tr>\n",
              "  </tbody>\n",
              "</table>\n",
              "</div>"
            ],
            "text/plain": [
              "      Real  Predicted\n",
              "777      1          1\n",
              "1307     0          0\n",
              "1736     0          0\n",
              "959      0          1\n",
              "1041     0          1\n",
              "1703     0          1\n",
              "1064     0          0\n",
              "1386     0          1\n",
              "82       0          0\n",
              "428      0          0\n",
              "2348     1          1\n",
              "366      1          1\n",
              "3199     1          1\n",
              "2903     0          0\n",
              "1519     1          0\n",
              "1903     1          1\n",
              "3041     0          0\n",
              "2776     1          0\n",
              "1697     0          0\n",
              "383      1          0"
            ]
          },
          "execution_count": 47,
          "metadata": {},
          "output_type": "execute_result"
        }
      ],
      "source": [
        "results = pd.DataFrame({\"Real\": y_test, \"Predicted\":y_pred})\n",
        "results = results.sample(n = 20)\n",
        "results"
      ]
    },
    {
      "cell_type": "markdown",
      "metadata": {
        "id": "s3eD7VamPsz7"
      },
      "source": [
        "## modelos de clasificación"
      ]
    },
    {
      "cell_type": "code",
      "execution_count": null,
      "metadata": {
        "id": "J3V_8kqkPsz7"
      },
      "outputs": [],
      "source": [
        "K = range (2, 12)\n",
        "inertias = []\n",
        "for i in K:\n",
        "    kmeans = KMeans(n_clusters = i)\n",
        "    kmeans.fit(df_scale)\n",
        "    inertias.append(kmeans.inertia_)"
      ]
    },
    {
      "cell_type": "code",
      "execution_count": null,
      "metadata": {
        "id": "jTh28i5ZPsz8",
        "outputId": "b344592b-a848-4efc-8920-ee9849dffd84"
      },
      "outputs": [
        {
          "data": {
            "image/png": "[encoded data removed]",
            "text/plain": [
              "<Figure size 432x288 with 1 Axes>"
            ]
          },
          "metadata": {
            "needs_background": "light"
          },
          "output_type": "display_data"
        }
      ],
      "source": [
        "plt.plot(K, inertias)\n",
        "plt.xlabel(\"K\")\n",
        "plt.ylabel('Suma de las distancias de los puntos al centroide')\n",
        "plt.show()"
      ]
    },
    {
      "cell_type": "code",
      "execution_count": null,
      "metadata": {
        "id": "kIoVGqrnPs0A"
      },
      "outputs": [],
      "source": [
        "tree = DecisionTreeClassifier(criterion = \"entropy\", max_depth =3, splitter = \"best\")"
      ]
    },
    {
      "cell_type": "code",
      "execution_count": null,
      "metadata": {
        "id": "RiQEPI9YPs0C"
      },
      "outputs": [],
      "source": [
        "model_tree = tree.fit(X_train, y_train)"
      ]
    },
    {
      "cell_type": "code",
      "execution_count": null,
      "metadata": {
        "id": "yPWIEv38Ps0D"
      },
      "outputs": [],
      "source": [
        "y_pred = model_tree.predict(X_test)"
      ]
    },
    {
      "cell_type": "markdown",
      "metadata": {
        "id": "bY8z12e2Ps0D"
      },
      "source": [
        "Valor F"
      ]
    },
    {
      "cell_type": "code",
      "execution_count": null,
      "metadata": {
        "id": "b9Uk0nAgPs0E",
        "outputId": "7ec11d54-48db-4979-8a4c-d33030b5c121"
      },
      "outputs": [
        {
          "data": {
            "text/plain": [
              "0.62970498474059"
            ]
          },
          "execution_count": 53,
          "metadata": {},
          "output_type": "execute_result"
        }
      ],
      "source": [
        "metrics.accuracy_score(y_test, y_pred)"
      ]
    },
    {
      "cell_type": "code",
      "execution_count": null,
      "metadata": {
        "id": "IVU5L1gDPs0E",
        "outputId": "daf0dc6b-98aa-40b5-9d9c-6a071e7737e7"
      },
      "outputs": [
        {
          "data": {
            "text/plain": [
              "0.28627450980392155"
            ]
          },
          "execution_count": 54,
          "metadata": {},
          "output_type": "execute_result"
        }
      ],
      "source": [
        "metrics.f1_score(y_test, y_pred)"
      ]
    },
    {
      "cell_type": "markdown",
      "metadata": {
        "id": "-f81mhw1Ps0E"
      },
      "source": [
        "confusion matrix"
      ]
    },
    {
      "cell_type": "code",
      "execution_count": null,
      "metadata": {
        "id": "2QgBplQjPs0E",
        "outputId": "30eae63a-cef3-4052-fa54-22622d19f314"
      },
      "outputs": [
        {
          "data": {
            "text/plain": [
              "array([[546,  39],\n",
              "       [325,  73]], dtype=int64)"
            ]
          },
          "execution_count": 55,
          "metadata": {},
          "output_type": "execute_result"
        }
      ],
      "source": [
        "conf_matrix = confusion_matrix(y_test, y_pred)\n",
        "conf_matrix"
      ]
    },
    {
      "cell_type": "code",
      "execution_count": null,
      "metadata": {
        "id": "UQX1YgK2Ps0F",
        "outputId": "1a0d47d8-a4c6-489c-8e87-6ecafe85a5b4"
      },
      "outputs": [
        {
          "data": {
            "image/png": "[encoded data removed]",
            "text/plain": [
              "<Figure size 360x360 with 2 Axes>"
            ]
          },
          "metadata": {
            "needs_background": "light"
          },
          "output_type": "display_data"
        }
      ],
      "source": [
        "conf_matrix = confusion_matrix(y_test, y_pred)\n",
        "plt.figure(figsize=(5, 5))\n",
        "sns.heatmap(conf_matrix, xticklabels='LABELS', yticklabels='LABELS', annot=True, fmt='d')\n",
        "plt.title('Confusion matrix')\n",
        "plt.ylabel('True class')\n",
        "plt.xlabel('Predicted class')\n",
        "plt.show()"
      ]
    },
    {
      "cell_type": "markdown",
      "metadata": {
        "id": "Yhm_ZNgBPs0F"
      },
      "source": [
        "## curva ROC y AUC"
      ]
    },
    {
      "cell_type": "code",
      "execution_count": null,
      "metadata": {
        "id": "YSUwGQZTPs0F",
        "outputId": "86c02f51-1750-4bc0-d02d-3dd0d4dd32bf"
      },
      "outputs": [
        {
          "data": {
            "image/png": "[encoded data removed]",
            "text/plain": [
              "<Figure size 432x288 with 1 Axes>"
            ]
          },
          "metadata": {
            "needs_background": "light"
          },
          "output_type": "display_data"
        }
      ],
      "source": [
        "fpr, tpr, thresholds = roc_curve(y_test, y_pred)\n",
        "def plot_roc_curve(fpr, tpr, label = None):\n",
        "    plt.plot(fpr, tpr, linewidth =2, label=label)\n",
        "    plt.plot([0,1],[0,1],'k--')\n",
        "plot_roc_curve(fpr, tpr)\n",
        "plt.show()"
      ]
    },
    {
      "cell_type": "markdown",
      "metadata": {
        "id": "gd6mTe8oPs0G"
      },
      "source": [
        "## validación cruzada"
      ]
    },
    {
      "cell_type": "code",
      "execution_count": null,
      "metadata": {
        "id": "lIlIubqPPs0G"
      },
      "outputs": [],
      "source": [
        "scores = []\n",
        "best_svr = SVR(kernel='rbf')\n",
        "cv = KFold(n_splits=10, random_state=42, shuffle=True)\n",
        "for train_index, test_index in cv.split(X):\n",
        "    print('Índice de entrenamiento: ', train_index, '\\n')\n",
        "    print('Índice de prueba: ', test_index)\n",
        "    X_train, X_test, y_train, y_test = X[train_index], X[X_test], y[y_train], y[y_test]\n",
        "    best_svr.fit(X_train, y_train)\n",
        "    scores.append(best_svr.score(X_test, y_test))"
      ]
    },
    {
      "cell_type": "markdown",
      "source": [
        "## mejor clasificador"
      ],
      "metadata": {
        "id": "eR9TaMdvP7zj"
      }
    },
    {
      "cell_type": "markdown",
      "source": [
        "Una vez realizados los diversos algoritmos para clasificar, tomando en cuenta el proceso de limpieza y normalización de datos, así como el entrenamiento de los algoritmos, se puede concluir que el mejor algoritmo de clasificación para estos datos es el de decision tree, ya que este se adapta de mejor manera con los datos en base a la precisión presentada."
      ],
      "metadata": {
        "id": "EP97SH7LQAlc"
      }
    }
  ],
  "metadata": {
    "kernelspec": {
      "display_name": "Python 3.9.12 ('base')",
      "language": "python",
      "name": "python3"
    },
    "language_info": {
      "codemirror_mode": {
        "name": "ipython",
        "version": 3
      },
      "file_extension": ".py",
      "mimetype": "text/x-python",
      "name": "python",
      "nbconvert_exporter": "python",
      "pygments_lexer": "ipython3",
      "version": "3.9.12"
    },
    "orig_nbformat": 4,
    "vscode": {
      "interpreter": {
        "hash": "3da53c9c8ab7b538a4270fda3de568bbb19c2469968f6dc93ea3f292c36a847d"
      }
    },
    "colab": {
      "provenance": []
    }
  },
  "nbformat": 4,
  "nbformat_minor": 0
}